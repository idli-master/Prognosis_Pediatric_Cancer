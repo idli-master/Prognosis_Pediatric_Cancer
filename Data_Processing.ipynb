{
 "cells": [
  {
   "cell_type": "code",
   "execution_count": null,
   "id": "67ef0a4d",
   "metadata": {},
   "outputs": [],
   "source": [
    "import pandas as pd\n",
    "import os\n",
    "# Load the CSV files\n",
    "participants_df = pd.read_csv('Participants.csv')\n",
    "diagnosis_df = pd.read_csv('Diagnosis.csv')\n",
    "survival_df = pd.read_csv('Survival.csv')\n",
    "studies_df = pd.read_csv('Studies.csv')\n",
    "\n",
    "# Perform the joins based on 'Participant Id'\n",
    "cancer_df = participants_df.merge(diagnosis_df, on='Participant Id', how='left').merge(survival_df, on='Participant Id', how='left')\n",
    "\n",
    "# Join the result with Studies.csv based on 'Study Id'\n",
    "combined_df = cancer_df.merge(studies_df, on='Study ID', how='left')\n",
    "\n",
    "\n",
    "\n",
    "# Clean the 'Diagnosis' and 'Anatomic Site' columns by removing codes and colons\n",
    "combined_df['Diagnosis'] = combined_df['Diagnosis'].str.split(':').str[1].str.strip()\n",
    "combined_df['Anatomic Site'] = combined_df['Anatomic Site'].str.split(':').str[1].str.strip()\n",
    "\n",
    "# # Convert age columns from months to \"years and months\"\n",
    "# def convert_months_to_years_months(months):\n",
    "#     years = months // 12\n",
    "#     remaining_months = months % 12\n",
    "#     return f\"{years} years {remaining_months} months\"\n",
    "\n",
    "# age_columns = ['Age at Diagnosis', 'Age at Last Contact', 'Age at Death']  # Example column names\n",
    "\n",
    "# for col in age_columns:\n",
    "#     combined_df[col] = combined_df[col].apply(convert_months_to_years_months)\n",
    "# Drop the redundant 'Study Id' columns\n",
    "combined_df.drop(columns=['Study ID_x', 'Study ID_y'], inplace=True)\n",
    "# Define the output path\n",
    "output_filename = 'child_cancer_cleaned.csv'\n",
    "output_path = os.path.join(os.getcwd(), output_filename)\n",
    "\n",
    "# Save the combined dataframe to a CSV file\n",
    "combined_df.to_csv(output_path, index=False)\n",
    "\n",
    "# Print the full path where the file is saved\n",
    "print(f\"File saved to: {output_path}\")"
   ]
  }
 ],
 "metadata": {
  "kernelspec": {
   "display_name": "Python 3 (ipykernel)",
   "language": "python",
   "name": "python3"
  },
  "language_info": {
   "codemirror_mode": {
    "name": "ipython",
    "version": 3
   },
   "file_extension": ".py",
   "mimetype": "text/x-python",
   "name": "python",
   "nbconvert_exporter": "python",
   "pygments_lexer": "ipython3",
   "version": "3.7.15"
  }
 },
 "nbformat": 4,
 "nbformat_minor": 5
}
